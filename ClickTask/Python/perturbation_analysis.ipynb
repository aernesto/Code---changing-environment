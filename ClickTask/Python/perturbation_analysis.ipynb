{
 "cells": [
  {
   "cell_type": "markdown",
   "metadata": {},
   "source": [
    "# Perturbation analysis"
   ]
  },
  {
   "cell_type": "code",
   "execution_count": 48,
   "metadata": {
    "collapsed": true
   },
   "outputs": [],
   "source": [
    "import numpy as np\n",
    "import matplotlib.pyplot as plt\n",
    "%matplotlib inline"
   ]
  },
  {
   "cell_type": "code",
   "execution_count": 49,
   "metadata": {
    "collapsed": true
   },
   "outputs": [],
   "source": [
    "# Array of liklihood ratios\n",
    "X = np.array([np.exp(1) for i in range(N)])"
   ]
  },
  {
   "cell_type": "code",
   "execution_count": 50,
   "metadata": {
    "collapsed": true
   },
   "outputs": [],
   "source": [
    "# parameters\n",
    "N = 30 # number of observations\n",
    "epsilon = 1 # perturbation. Its absolute value should not exceed the minimum of X "
   ]
  },
  {
   "cell_type": "code",
   "execution_count": 51,
   "metadata": {
    "collapsed": true
   },
   "outputs": [],
   "source": [
    "def perturb(Y, epsilon, i):\n",
    "    \"\"\"\n",
    "    adds epsilon to the i-th entry of Y\n",
    "    \"\"\"\n",
    "    Z = Y.copy()\n",
    "    Z[i] += epsilon\n",
    "    return Z"
   ]
  },
  {
   "cell_type": "code",
   "execution_count": 52,
   "metadata": {
    "collapsed": true
   },
   "outputs": [],
   "source": [
    "def y(X):\n",
    "    \"\"\"\n",
    "    sums the log of the entries of X. This is a perfect integrator\n",
    "    \"\"\"\n",
    "    return np.log(X).sum()"
   ]
  },
  {
   "cell_type": "code",
   "execution_count": 53,
   "metadata": {
    "collapsed": true
   },
   "outputs": [],
   "source": [
    "def phi(x, h):\n",
    "    \"\"\"\n",
    "    Non-linearity used in the optimal evidence accumulation process\n",
    "    \"\"\"\n",
    "    return ((1 - h) * x + h) / (h * x + 1 - h)"
   ]
  },
  {
   "cell_type": "code",
   "execution_count": 54,
   "metadata": {
    "collapsed": true
   },
   "outputs": [],
   "source": [
    "def z(X, h):\n",
    "    \"\"\"\n",
    "    Optimal evidence accumulation process\n",
    "    \"\"\"\n",
    "    N = len(X)\n",
    "    newphi = phi(X[0], h)\n",
    "    # print('n=', 1, ' ', newphi)\n",
    "    n = 2\n",
    "    while n < N:\n",
    "        newphi = phi(X[n-1]*newphi, h)\n",
    "        # print('n=', n, ' ', newphi)\n",
    "        n += 1\n",
    "    return np.log(X[-1]) + np.log(newphi)"
   ]
  },
  {
   "cell_type": "code",
   "execution_count": 55,
   "metadata": {
    "collapsed": true
   },
   "outputs": [],
   "source": [
    "def errors_y(h):\n",
    "    return [y(perturb(X, epsilon, i)) - y(X) for i in range(len(X))]\n",
    "def errors_z(h):\n",
    "    return [z(perturb(X, epsilon, i), h) - z(X, h) for i in range(len(X))]"
   ]
  },
  {
   "cell_type": "code",
   "execution_count": 56,
   "metadata": {},
   "outputs": [
    {
     "name": "stdout",
     "output_type": "stream",
     "text": [
      "Total number of observations 30\n",
      "perturbation value 1\n",
      "constant likelihood ratio 2.71828182846\n"
     ]
    },
    {
     "data": {
      "image/png": "[encoded data removed]",
      "text/plain": [
       "<matplotlib.figure.Figure at 0x7f0a2f7a2828>"
      ]
     },
     "metadata": {},
     "output_type": "display_data"
    }
   ],
   "source": [
    "print('Total number of observations',N)\n",
    "print('perturbation value',epsilon)\n",
    "print('constant likelihood ratio', np.exp(1))\n",
    "fig, ax = plt.subplots()\n",
    "ax.set_ylim([0,.4])\n",
    "setofh = [0.000000000001,0.1,0.4]\n",
    "for h in setofh:\n",
    "    x = range(N)\n",
    "    ax.plot(x[-10:], errors_z(h)[-10:])\n",
    "\n",
    "ax.legend(setofh, loc='upper left')\n",
    "plt.title('effect of localized perturbations in time on LLR')\n",
    "plt.ylabel('impact on LLR')\n",
    "plt.xlabel('location of perturbation in time')\n",
    "plt.show()"
   ]
  }
 ],
 "metadata": {
  "kernelspec": {
   "display_name": "Python 3",
   "language": "python",
   "name": "python3"
  },
  "language_info": {
   "codemirror_mode": {
    "name": "ipython",
    "version": 3
   },
   "file_extension": ".py",
   "mimetype": "text/x-python",
   "name": "python",
   "nbconvert_exporter": "python",
   "pygments_lexer": "ipython3",
   "version": "3.6.1"
  }
 },
 "nbformat": 4,
 "nbformat_minor": 2
}
