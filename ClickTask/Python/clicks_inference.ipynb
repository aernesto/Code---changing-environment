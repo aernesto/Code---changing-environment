{
 "cells": [
  {
   "cell_type": "markdown",
   "metadata": {},
   "source": [
    "# Simulations of ideal-observer model"
   ]
  },
  {
   "cell_type": "markdown",
   "metadata": {},
   "source": [
    "Some comments:\n",
    "If you don't have the `dataset` or the `psycopg2` modules installed, type the following from a command line on your computer:\n",
    "```\n",
    "pip install dataset\n",
    "pip install psycopg2\n",
    "```"
   ]
  },
  {
   "cell_type": "code",
   "execution_count": 453,
   "metadata": {
    "collapsed": true
   },
   "outputs": [],
   "source": [
    "from ipywidgets import interact, interactive, fixed, interact_manual\n",
    "import ipywidgets as widgets\n",
    "from IPython.display import display\n",
    "%matplotlib inline\n",
    "import matplotlib.pyplot as plt; plt.rcdefaults()\n",
    "import matplotlib.pyplot as plt\n",
    "import matplotlib.gridspec as grd\n",
    "import numpy as np\n",
    "from scipy.stats import rv_discrete, beta, gamma, norm\n",
    "from scipy import stats\n",
    "import scipy\n",
    "#import random\n",
    "# import sqlite3\n",
    "import datetime\n",
    "# import subprocess\n",
    "# import scipy.stats\n",
    "# import psycopg2\n",
    "# import dataset\n",
    "# import pandas  # for data frames"
   ]
  },
  {
   "cell_type": "code",
   "execution_count": 454,
   "metadata": {
    "collapsed": true
   },
   "outputs": [],
   "source": [
    "def raster(event_times_list, **kwargs):\n",
    "    \"\"\"\n",
    "    Creates a raster plot\n",
    "    Parameters\n",
    "    ----------\n",
    "    event_times_list : iterable\n",
    "                       a list of event time iterables\n",
    "    color : string\n",
    "            color of vlines\n",
    "    Returns\n",
    "    -------\n",
    "    ax : an axis containing the raster plot\n",
    "    \"\"\"\n",
    "    ax = plt.gca()\n",
    "    for ith, trial in enumerate(event_times_list):\n",
    "        plt.vlines(trial, ith + .5, ith + 1.5, **kwargs)\n",
    "    plt.ylim(.5, len(event_times_list) + .5)\n",
    "    return ax"
   ]
  },
  {
   "cell_type": "markdown",
   "metadata": {},
   "source": [
    "# Class definition"
   ]
  },
  {
   "cell_type": "code",
   "execution_count": 455,
   "metadata": {
    "collapsed": true
   },
   "outputs": [],
   "source": [
    "class Experiment(object):\n",
    "    def __init__(self, setof_stim_noise, exp_dt, setof_trial_dur, setof_h, tot_trial, states=np.array([-1, 1]),\n",
    "                 exp_prior=np.array([.5,.5]), setof_low_high_rates=[2,38], \n",
    "                 obs_values=['leftclick', 'rightclick', 'noclick']):\n",
    "        self.states = states\n",
    "        self.setof_stim_noise = setof_stim_noise\n",
    "        self.setof_trial_dur = setof_trial_dur  # for now an integer in msec.\n",
    "        self.tot_trial = tot_trial\n",
    "#         self.outputs = outputs\n",
    "        self.setof_h = setof_h\n",
    "        self.results = []\n",
    "        self.exp_prior = exp_prior  # TODO: check that entries >=0 and sum to 1\n",
    "        self.setof_low_high_rates = setof_low_high_rates\n",
    "        self.obs_values = obs_values\n",
    "        \n",
    "        # the following decreases slightly dt if it does not divide the trial duration\n",
    "        T = self.setof_trial_dur\n",
    "        dt = exp_dt\n",
    "        Ir = T / dt\n",
    "        if Ir != round(Ir):\n",
    "            I = np.ceil(Ir)\n",
    "            dt = Ir / I * dt\n",
    "            print('The value of dt has been decreased to ', dt, 'in order to make divide T')\n",
    "        self.exp_dt = exp_dt  # in sec\n",
    "\n",
    "    # function that switches the environment state that is given as argument\n",
    "    def switch(self, H):\n",
    "        try:\n",
    "            # might be more elegant to use elseif syntax below\n",
    "            if H in self.states:\n",
    "                if H == self.states[0]:\n",
    "                    return self.states[1]\n",
    "                else:\n",
    "                    return self.states[0]\n",
    "            else:\n",
    "                raise ValueError(\"Error in argument H: must be an element of \"\n",
    "                                 \"Experiment.states\")\n",
    "        except AttributeError as err:\n",
    "            print(err.args)\n",
    "\n",
    "    def launch(self, observer, singleTrialOutputs, multiTrialOutputs):\n",
    "        # boolean variables telling the script what to plot\n",
    "        # plots are produced for a single trial ONLY if the total number of trials is 1\n",
    "        # plots are produced for several trials ONLY if the total number of trials is > 1\n",
    "        if self.tot_trial == 1:\n",
    "            printEnvt = singleTrialOutputs[0]\n",
    "            printStim = singleTrialOutputs[1]\n",
    "            printLLR = singleTrialOutputs[2]\n",
    "            multi = False\n",
    "            raw_perf = False\n",
    "            perf_lastcp = False\n",
    "        else:\n",
    "            printEnvt = False\n",
    "            printStim = False\n",
    "            printLLR = False\n",
    "            multi = True\n",
    "            raw_perf = multiTrialOutputs[0]\n",
    "            perf_lastcp = multiTrialOutputs[1]\n",
    "        \n",
    "        for trial_idx in range(self.tot_trial):\n",
    "            h = self.setof_h                    # true hazard rate for current trial\n",
    "            duration = self.setof_trial_dur     # trial duration in msec\n",
    "            stim_noise = self.setof_stim_noise  # std dev of stimulus generation conditional probability density\n",
    "            trial_number = trial_idx\n",
    "            low_high_rates = self.setof_low_high_rates\n",
    "            # select initial true environment state for current trial\n",
    "            if np.random.uniform() < self.exp_prior[0]:\n",
    "                init_state = self.states[0]\n",
    "            else:\n",
    "                init_state = self.states[1]\n",
    "                \n",
    "            curr_exp_trial = ExpTrial(self, h, duration, stim_noise,\n",
    "                                      trial_number, init_state, printEnvt, low_high_rates)\n",
    "            curr_stim = Stimulus(curr_exp_trial, printStim)\n",
    "            curr_obs_trial = ObsTrial(curr_exp_trial, curr_stim, observer.dt, self, \n",
    "                                      observer.prior_states, observer.prior_h)\n",
    "            curr_obs_trial.infer(printLLR)\n",
    "            \n",
    "            # gather variables to store in database\n",
    "            if multi:\n",
    "                trial_duration = curr_exp_trial.duration # in seconds\n",
    "                cp = curr_exp_trial.cp_times\n",
    "                if cp.size > 0:\n",
    "                    time_last_cp = trial_duration - curr_exp_trial.cp_times[-1]\n",
    "                else:\n",
    "                    time_last_cp = curr_exp_trial.duration\n",
    "                dec = int(curr_obs_trial.decision)\n",
    "                correct = bool(dec == curr_exp_trial.end_state)\n",
    "                populate_db(cur, trial_idx, dec, correct, time_last_cp, trial_duration)    \n",
    "    \n",
    "    def raw_perf(self):\n",
    "        cursor = cur.execute(\"SELECT COUNT(Correct) FROM Results WHERE Correct == 1\")\n",
    "        for row in cursor:\n",
    "            print('percent correct = ', (row[0] / self.tot_trial) * 100)\n",
    "            print(' ')  # just to have a blank line\n",
    "        \n",
    "    def perf_last_cp(self):\n",
    "#         print('entered the perf_last_cp function')\n",
    "        cursor1 = cur.execute('''SELECT TimeLastCp, SUM(Correct)*1.0 / COUNT(TimeLastCp), COUNT(TimeLastCp)\n",
    "                                FROM Results \n",
    "                                GROUP BY TimeLastCp\n",
    "                                ORDER BY TimeLastCp''')\n",
    "        time = np.zeros(0)\n",
    "        perf = np.copy(time)\n",
    "        counts = np.copy(time)\n",
    "        for row in cursor1:\n",
    "            time = np.append(time, row[0])\n",
    "            perf = np.append(perf, row[1])\n",
    "            counts = np.append(counts, row[2])\n",
    "#             print(row)\n",
    "        plt.figure()\n",
    "        plt.ylim([0,counts.max()])\n",
    "        plt.bar(time, counts, align='center', width=3)\n",
    "        plt.title('Histogram of trial counts per time bin')\n",
    "        plt.xlabel('time since last CP (msec)')\n",
    "        plt.ylabel('trial count')\n",
    "        \n",
    "        plt.figure()\n",
    "        plt.plot(time, perf)\n",
    "        plt.title('perf as fcn of time since last CP')\n",
    "        plt.xlabel('time since last CP (msec)')\n",
    "        plt.ylabel('percent correct')\n",
    "        plt.show()\n",
    "        \n",
    "    def parallel_launch(self):\n",
    "        return 0  # temporary"
   ]
  },
  {
   "cell_type": "code",
   "execution_count": 456,
   "metadata": {
    "collapsed": true
   },
   "outputs": [],
   "source": [
    "class ExpTrial(object):\n",
    "    def __init__(self, expt, h, duration, stim_noise, trial_number,\n",
    "                 init_state, printEnvt, low_high_rates):\n",
    "        self.expt = expt\n",
    "        self.true_h = h\n",
    "        self.duration = duration  # sec\n",
    "        self.stim_noise = stim_noise\n",
    "        self.trial_number = trial_number\n",
    "        self.init_state = init_state\n",
    "        self.cp_times = self.gen_cp(self.duration, self.true_h, printEnvt)\n",
    "        self.end_state = self.compute_endstate(len(self.cp_times))\n",
    "        self.tot_trial = self.expt.tot_trial\n",
    "        self.low_high_rates = low_high_rates\n",
    "\n",
    "    def compute_endstate(self, ncp):\n",
    "        # the fact that the last state equals the initial state depends on\n",
    "        # the evenness of the number of change points.\n",
    "        if ncp % 2 == 0:\n",
    "            return self.init_state\n",
    "        else:\n",
    "            return self.expt.switch(self.init_state)\n",
    "\n",
    "    # the following is the likelihood used to generate stimulus values,\n",
    "    #  given the true state H of the environment\n",
    "    def randlh(self, H):\n",
    "        # try clause might be redundant (because switch method does it)\n",
    "        try:\n",
    "            if H in self.expt.states:\n",
    "                return np.random.normal(H, self.stim_noise)\n",
    "            else:\n",
    "                raise ValueError(\"Error in argument H: must be an element of \"\n",
    "                                 \"Experiment.states\")\n",
    "        except ValueError as err:\n",
    "            print(err.args)\n",
    "\n",
    "    '''\n",
    "    generates poisson train of duration milliseconds with rate true_h in Hz, \n",
    "    using the Gillespie algorithm.\n",
    "    \n",
    "    print statements are only there for debugging purposes\n",
    "    '''\n",
    "    def gen_cp(self, duration, true_h, printEnvt):\n",
    "        # TODO: Generate a warning if >1 ch-pt occur in Experiment.exp_dt window\n",
    "        # print('launching gen_cp')\n",
    "        # print('secdur = '), secdur\n",
    "        '''\n",
    "        pre-allocate ten times the mean array size \n",
    "        for speed, will be shrinked after computation\n",
    "        '''\n",
    "        nEntries = int(np.ceil(10 * true_h * duration))\n",
    "        # print('allocated entries = '), nEntries\n",
    "\n",
    "        t = np.zeros(nEntries)\n",
    "        if nEntries == 0:\n",
    "            print('change point times are')\n",
    "            print(t)\n",
    "            return t\n",
    "            \n",
    "        totalTime = 0\n",
    "        eventIdx = -1\n",
    "\n",
    "        while totalTime < duration:\n",
    "            sojournTime = np.random.exponential(1. / true_h)\n",
    "            totalTime += sojournTime\n",
    "            eventIdx += 1\n",
    "            t[eventIdx] = totalTime\n",
    "\n",
    "        # trim unused nodes, and maybe last event if occurred beyond secdur\n",
    "\n",
    "        # print t[0:10]\n",
    "        lastEvent, idxLastEvent = t.max(0), t.argmax(0)\n",
    "        # print 'lastEvent = ', lastEvent, 'idxLastEvent = ', idxLastEvent\n",
    "\n",
    "        if lastEvent > duration:\n",
    "            idxLastEvent -= 1\n",
    "\n",
    "        if idxLastEvent == -1:\n",
    "            t = np.zeros((0, 1))\n",
    "        else:\n",
    "            t = t[0:int(idxLastEvent) + 1]\n",
    "\n",
    "        if printEnvt:\n",
    "            if t.size == 0:\n",
    "                x = np.array([0, duration])\n",
    "                y = np.array([self.init_state, self.init_state])\n",
    "            else:\n",
    "                x = np.insert(t, 0, 0)\n",
    "                x = np.append(x, duration)\n",
    "                xpoints = x.size\n",
    "                y = np.zeros(xpoints)\n",
    "                y[0]=self.init_state\n",
    "                last_envt = self.init_state\n",
    "                for jjj in np.arange(1,xpoints):\n",
    "                    new_envt = self.expt.switch(last_envt)\n",
    "                    if jjj == xpoints - 1:\n",
    "                        y[jjj] = last_envt\n",
    "                    else:\n",
    "                        y[jjj] = new_envt\n",
    "                    last_envt = new_envt\n",
    "            \n",
    "#             print(y)\n",
    "            fig = plt.figure()                                                               \n",
    "            ax = fig.add_subplot(1,1,1)  \n",
    "            ticks = np.array([0, 1]) \n",
    "            ax.set_yticks(ticks)\n",
    "            ax.set_xticks(x)\n",
    "            ax.set_ylim([self.expt.states[0]-1,self.expt.states[1]+1])\n",
    "            labels=['H - ','H +']\n",
    "            plt.yticks(self.expt.states, labels)\n",
    "            plt.step(x, y, where='post')\n",
    "            plt.title('Environment')\n",
    "            plt.xlabel('time (seconds)')\n",
    "            plt.show()\n",
    "#         print('change point times are')\n",
    "#         print(t)\n",
    "        return list(t)"
   ]
  },
  {
   "cell_type": "code",
   "execution_count": 457,
   "metadata": {
    "collapsed": true
   },
   "outputs": [],
   "source": [
    "class Stimulus(object):\n",
    "    def __init__(self, exp_trial, printStim):\n",
    "        self.exp_trial = exp_trial\n",
    "        self.trial_number = self.exp_trial.trial_number\n",
    "        # number of bins, i.e. number of stimulus values to compute\n",
    "        # the first bin has 0 width and corresponds to the stimulus presentation\n",
    "        # at the start of the trial, when t = 0.\n",
    "        # So for a trial of length T = N x exp_dt msecs, there will be an observation\n",
    "        # at t = 0, t = exp_dt, t = 2 x exp_dt, ... , t = T \n",
    "        self.stim = self.gen_stim(printStim)\n",
    "        \n",
    "    def gen_stim(self, printStim):\n",
    "        # returns a tuple with 2 elements, leftStream and rightStream respectively\n",
    "        # each being a 1-D array of click times.\n",
    "        \n",
    "        ct = self.exp_trial.cp_times  # just to make notation lighter\n",
    "        E = np.zeros(len(ct) + 1)\n",
    "        nTrains = len(E)  # number of trains to stack, for each ear\n",
    "        if self.exp_trial.init_state == self.exp_trial.expt.states[0]:  # initial state is H-\n",
    "            pass\n",
    "        else:\n",
    "            E[0] = 1\n",
    "        for counter in range(1,nTrains):\n",
    "            if E[counter] == E[counter - 1]:\n",
    "                E[counter] = 1 - E[counter - 1]\n",
    "                \n",
    "        leftStream = []  # storing click trains for each ear, as numpy arrays\n",
    "        rightStream = [] \n",
    "        # construct trains between each change point\n",
    "        for tt in range(nTrains):\n",
    "            # extract time length of current train\n",
    "            if tt == 0:\n",
    "                if len(ct) > 0:\n",
    "                    timeLength = ct[tt]\n",
    "                    offset = 0\n",
    "                else:\n",
    "                    timeLength = self.exp_trial.duration \n",
    "                    offset = 0\n",
    "            elif tt == (nTrains - 1):\n",
    "                offset = ct[-1]\n",
    "                timeLength = self.exp_trial.duration - offset\n",
    "            else:\n",
    "                offset = ct[tt - 1]\n",
    "                timeLength = ct[tt] - offset\n",
    "\n",
    "            # construct trains for both ears, depending on envt state\n",
    "            rate_low, rate_high = self.exp_trial.low_high_rates\n",
    "            leftTrain_low = [XX + offset for XX in self.exp_trial.gen_cp(duration = timeLength, \n",
    "                                                  true_h = rate_low, printEnvt = False)]\n",
    "            leftTrain_high = [XX + offset for XX in self.exp_trial.gen_cp(duration = timeLength, \n",
    "                                                   true_h = rate_high, printEnvt = False)]\n",
    "            rightTrain_high = [XX + offset for XX in self.exp_trial.gen_cp(duration = timeLength, \n",
    "                                                    true_h = rate_high, printEnvt = False)]\n",
    "            rightTrain_low = [XX + offset for XX in self.exp_trial.gen_cp(duration = timeLength, \n",
    "                                                   true_h = rate_low, printEnvt = False)]\n",
    "            if E[tt] == 1:  # evaluates to true if envt is in state S+ ---> high rate to right ear\n",
    "                leftStream += leftTrain_low\n",
    "                rightStream += rightTrain_high\n",
    "            else:  # envt in state S- ---> high rate to left ear\n",
    "                leftStream += leftTrain_high\n",
    "                rightStream += rightTrain_low\n",
    "    \n",
    "        # stimulus vector to be filled by upcoming while loop\n",
    "        \n",
    "        stimulus = (leftStream, rightStream)\n",
    "    \n",
    "        # plot stimulus trace\n",
    "        if printStim:\n",
    "            fig = plt.figure()\n",
    "            ax = raster(stimulus)\n",
    "            plt.title('Stimulus (click trains)')\n",
    "            plt.xlabel('time')\n",
    "            plt.ylabel('ear')\n",
    "            plt.show()\n",
    "\n",
    "        return stimulus"
   ]
  },
  {
   "cell_type": "code",
   "execution_count": 458,
   "metadata": {
    "collapsed": true
   },
   "outputs": [],
   "source": [
    "class IdealObs(object):\n",
    "    def __init__(self, dt, expt, prior_states=np.array([.5, .5]), prior_h=np.array([1, 1])):\n",
    "        self.expt = expt  # reference to Experiment object\n",
    "        self.dt = dt  # in sec\n",
    "        self.prior_h = prior_h\n",
    "        self.prior_states = prior_states  # TODO: check that prior_states is a stochastic vector\n",
    "        \n",
    "#         self.obs_noise = self.expt.setof_stim_noise\n",
    "        \n",
    "    # the following is the likelihood used by the ideal observer\n",
    "    # H = assumed state of the environment\n",
    "    # x = point at which to evaluate the pdf\n",
    "    # click_rates = [rate_low, rate_high]\n",
    "    def lh(self, H, x, click_rates):\n",
    "        try:\n",
    "            if (H in self.expt.states) and (x in self.expt.obs_values):\n",
    "                Hminus, Hplus = self.expt.states\n",
    "                rate_low, rate_high = click_rates\n",
    "                \n",
    "                if (H, x) in [(Hplus, 'rightclick'), (Hminus, 'leftclick')]:\n",
    "                    return rate_high * self.dt\n",
    "                elif (H, x) in [(Hplus, 'leftclick'), (Hminus, 'rightclick')]:\n",
    "                    return rate_low * self.dt\n",
    "                elif (H, x) in [(Hplus, 'noclick'), (Hminus, 'noclick')]:\n",
    "                    return 1 - sum(click_rates) * self.dt\n",
    "            else:\n",
    "                raise ValueError(\"Error in argument H: must be an element of \"\n",
    "                                 \"Experiment.states\"\n",
    "                                \"and x an element of Experiment.obs_values\")\n",
    "        except ValueError as err:\n",
    "            print(err.args)"
   ]
  },
  {
   "cell_type": "code",
   "execution_count": 459,
   "metadata": {
    "collapsed": true
   },
   "outputs": [],
   "source": [
    "class ObsTrial(IdealObs):\n",
    "    def __init__(self, exp_trial, stimulus, dt, expt, prior_states=np.array([.5, .5]), prior_h=np.array([1, 1])):\n",
    "        super().__init__(dt, expt, prior_states, prior_h)\n",
    "        self.exp_trial = exp_trial\n",
    "        self.stimulus = stimulus\n",
    "        self.decision = 0\n",
    "        self.obs_noise = self.exp_trial.stim_noise\n",
    "        self.trial_number = self.exp_trial.trial_number\n",
    "        self.obs = self.gen_obs()  # This method sets self.nbins\n",
    "        self.llr = np.zeros(self.nbins)\n",
    "    \n",
    "    # the following function returns a list of strings, of size int(self.stimulus.duration / self.dt)\n",
    "    # each list element is one of 'leftclick', 'rightclick', 'noclick'\n",
    "    # IMPORTANT: 1. bins are left-closed, right-opened. So the first bin catches clicks falling in [0,dt),\n",
    "    #           the second bin catches clicks falling in [dt, 2*dt), etc.\n",
    "    #            2. a click occurring exactly at the end of the trial will generate a exception, but program keeps running\n",
    "    #            3. two clicks falling in the same bin, for a single stream, get counted as a single click\n",
    "    #            4. two clicks from distinct streams (left+right) falling in the same bin get classified as 'noclick', \n",
    "    #               so dt should be small enough to avoid this possibility. Alternatively, change the code.\n",
    "    def gen_obs(self):\n",
    "        self.nbins = round(self.stimulus.exp_trial.duration / self.dt)  # total number of bins\n",
    "        leftObs = np.zeros(self.nbins)\n",
    "        rightObs = leftObs.copy()\n",
    "        binTimes = np.arange(1, self.nbins + 1) * self.dt  # times in sec of right-endpoints of bins\n",
    "        # left observations\n",
    "        for eventTime in self.stimulus.stim[0]:\n",
    "            try:\n",
    "                leftObs[np.amin(np.nonzero(binTimes > eventTime))] = 1 # set the bin where event occurred to 1\n",
    "            except ValueError as err:\n",
    "                print(err.args)\n",
    "        # right observations\n",
    "        for eventTime in self.stimulus.stim[1]:\n",
    "            try:\n",
    "                rightObs[np.amin(np.nonzero(binTimes > eventTime))] = 1\n",
    "            except ValueError as err:\n",
    "                print(err.args)\n",
    "        # return list of observations as strings        \n",
    "        return ['leftclick' if (l, r) == (1, 0) else 'rightclick' if (l, r) == (0, 1) else 'noclick' for l, r in zip(leftObs,rightObs)]\n",
    "\n",
    "    def infer(self, printLLR):\n",
    "        #  initialize variables\n",
    "        Hp = self.expt.states[1]\n",
    "        Hm = self.expt.states[0]\n",
    "        joint_plus_new = np.zeros(self.nbins)\n",
    "        joint_plus_current = np.copy(joint_plus_new)\n",
    "        joint_minus_new = np.copy(joint_plus_new)\n",
    "        joint_minus_current = np.copy(joint_plus_new)\n",
    "        alpha = self.prior_h[0]\n",
    "        priorPrec = self.prior_h.sum()\n",
    "        Pp = np.zeros([self.nbins,self.nbins])\n",
    "        Pm = np.copy(Pp)\n",
    "        \n",
    "        # get first observation\n",
    "        x = self.obs[0]\n",
    "        \n",
    "        # First time step \n",
    "        # compute joint posterior after first observation: P_{t=0}(H,a=0) --- recall first obs at t=0\n",
    "        joint_minus_current[0] = self.lh(Hm, x, self.exp_trial.low_high_rates) * self.prior_states[0]\n",
    "        joint_plus_current[0] = self.lh(Hp, x, self.exp_trial.low_high_rates) * self.prior_states[1]\n",
    "\n",
    "        Fd = joint_plus_current[0] + joint_minus_current[0]\n",
    "        joint_plus_current[0] = joint_plus_current[0] / Fd\n",
    "        joint_minus_current[0] = joint_minus_current[0] / Fd\n",
    "\n",
    "        # compute marginals over state\n",
    "        lp = joint_plus_current[0]\n",
    "        lm = joint_minus_current[0]\n",
    "        self.llr[0] = np.log(lp / lm)  # log posterior odds ratio\n",
    "        Pp[:,0] = joint_plus_current.copy()\n",
    "        Pm[:,0] = joint_minus_current.copy()\n",
    "        \n",
    "        # pursue algorithm if interrogation time is greater than 0\n",
    "        if self.exp_trial.duration == 0:\n",
    "            print('trial has duration 0 msec')\n",
    "            # todo: find a way to exit the function\n",
    "        \n",
    "        for j in np.arange(self.nbins - 1):\n",
    "            # make an observation\n",
    "            x = self.obs[j + 1]\n",
    "            \n",
    "            # compute likelihoods\n",
    "            xp = self.lh(Hp, x, self.exp_trial.low_high_rates)\n",
    "            xm = self.lh(Hm, x, self.exp_trial.low_high_rates)\n",
    "            \n",
    "            # update the boundaries (with 0 and j changepoints)\n",
    "            ea = 1 - alpha / (j + priorPrec)\n",
    "            eb = (j + alpha) / (j + priorPrec)\n",
    "            joint_plus_new[0] = xp * ea * joint_plus_current[0]\n",
    "            joint_minus_new[0] = xm * ea * joint_minus_current[0]\n",
    "            joint_plus_new[j + 1] = xp * eb * joint_minus_current[j]\n",
    "            joint_minus_new[j + 1] = xm * eb * joint_plus_current[j]\n",
    "            \n",
    "            # update the interior values\n",
    "            if j > 0:\n",
    "                vk = np.arange(2, j + 2);\n",
    "                ep = 1 - (vk - 1 + alpha) / (j + priorPrec)   #no change\n",
    "                em = (vk - 2 + alpha) / (j + priorPrec)       #change\n",
    "                joint_plus_new[vk - 1] = xp * (np.multiply(ep, joint_plus_current[vk - 1]) +\n",
    "                              np.multiply(em, joint_minus_current[vk - 2]))\n",
    "                joint_minus_new[vk - 1] = xm * (np.multiply(ep, joint_minus_current[vk - 1]) + \n",
    "                                            np.multiply(em,joint_plus_current[vk - 2]))\n",
    "                \n",
    "            # sum probabilities in order to normalize           \n",
    "            Hs = joint_plus_new.sum() + joint_minus_new.sum()\n",
    "\n",
    "            joint_plus_current = joint_plus_new / Hs\n",
    "            joint_minus_current = joint_minus_new / Hs\n",
    "\n",
    "            Pp[:, j + 1] = joint_plus_current.copy()\n",
    "            Pm[:, j + 1] = joint_minus_current.copy()\n",
    "            \n",
    "            #compute marginals over state if last iteration\n",
    "            lp = joint_plus_current.sum()\n",
    "            lm = joint_minus_current.sum() \n",
    "            self.llr[j + 1] = np.log(lp / lm)\n",
    "\n",
    "        # compute decision (interrogate the system)\n",
    "        if np.sign(np.log(lp / lm)) == -1:\n",
    "            self.decision = Hm\n",
    "        elif np.sign(np.log(lp / lm)) == 1:\n",
    "            self.decision = Hp\n",
    "        else:\n",
    "            if np.random.uniform() < 0.5:\n",
    "                self.decision = Hm\n",
    "            else:\n",
    "                self.decision = Hp\n",
    "                \n",
    "        # plot log posterior odds ratio trace\n",
    "        if printLLR:\n",
    "            plt.plot(np.arange(self.nbins), self.llr, 'r-')\n",
    "            plt.axhline(0, color='black')\n",
    "            plt.title('log posterior odds ratio')\n",
    "            plt.show()\n",
    "            "
   ]
  },
  {
   "cell_type": "markdown",
   "metadata": {},
   "source": [
    "---\n",
    "# Interactive code"
   ]
  },
  {
   "cell_type": "markdown",
   "metadata": {},
   "source": [
    "## Choose the ideal-observer's prior over h"
   ]
  },
  {
   "cell_type": "markdown",
   "metadata": {},
   "source": [
    "Use the sliders below to set the values of the _mode_ and _variance_ of the gamma prior. No need to execute the cell after moving the sliders.  \n",
    "By executing the cell appearing right after the sliders, the plot of the pdf will be updated."
   ]
  },
  {
   "cell_type": "code",
   "execution_count": 460,
   "metadata": {},
   "outputs": [
    {
     "data": {
      "application/vnd.jupyter.widget-view+json": {
       "model_id": "032e0dd94aa342eebee434785673eeed"
      }
     },
     "metadata": {},
     "output_type": "display_data"
    }
   ],
   "source": [
    "def g(mode=1.0, variance=10.0, true_h=1):\n",
    "    return np.array([mode, variance, true_h])\n",
    "ww = interactive(g, mode=(.01,10,0.01), variance=(0.01,100), true_h=(0.0,30.0,0.01))\n",
    "display(ww)"
   ]
  },
  {
   "cell_type": "code",
   "execution_count": 461,
   "metadata": {},
   "outputs": [
    {
     "data": {
      "image/png": "[encoded data removed]",
      "text/plain": [
       "<matplotlib.figure.Figure at 0x7fbee911fac8>"
      ]
     },
     "metadata": {},
     "output_type": "display_data"
    }
   ],
   "source": [
    "m, v, h = ww.result\n",
    "#m = 1  # mode of gamma pdf\n",
    "#v = 2 # var of gamma pdf\n",
    "beta = m / (2 * v) + np.sqrt(m**2 / (v**2) + 4 / v) / 2  # 1 / scale parameter of gamma pdf\n",
    "alpha = m * beta + 1   # shape parameter of gamma pdf\n",
    "x = np.linspace(gamma.ppf(0.0001, alpha, scale = 1 / beta),gamma.ppf(0.99, alpha, scale = 1 / beta), 5000)\n",
    "fig = plt.figure(1)\n",
    "ax = fig.add_subplot(111)\n",
    "y = gamma.pdf(x, alpha, scale = 1 / beta)\n",
    "plt.plot(x, y,'b-', lw=4, alpha=0.6, label='gamma pdf')\n",
    "plt.axvline(x=h, color='red', linestyle='--')\n",
    "xlim = ax.get_xlim()\n",
    "ax.annotate('true h', xy=(h, .25*y.max()), xytext=(.75*xlim[1], .5*y.max()),\n",
    "            arrowprops=dict(facecolor='black', shrink=0.05),\n",
    "            )\n",
    "plt.title('gamma prior over h')\n",
    "plt.xlabel('h (Hz)')\n",
    "plt.ylabel('pdf height')\n",
    "plt.show()"
   ]
  },
  {
   "cell_type": "code",
   "execution_count": 462,
   "metadata": {
    "collapsed": true
   },
   "outputs": [],
   "source": [
    "# This cell is for using the shape and 1/scale parameters of the gamma prior directly\n",
    "# def g(a=1.0, b=1.0):\n",
    "#     return np.array([a, b])\n",
    "# ww = interactive(g, a=(1,40), b=(1,40))\n",
    "# display(ww)"
   ]
  },
  {
   "cell_type": "markdown",
   "metadata": {},
   "source": [
    "## Choose ideal-observer's SNR"
   ]
  },
  {
   "cell_type": "markdown",
   "metadata": {},
   "source": [
    "For now, I confound the SNR from the stimulus and the one internal to the observer. We have:$$SNR = \\log \\frac{\\lambda_\\text{high}}{\\lambda_\\text{low}}$$  \n",
    "We impose the **constraint**: $\\lambda_{\\text{low}}+\\lambda_\\text{high}=40$ Hz"
   ]
  },
  {
   "cell_type": "code",
   "execution_count": 463,
   "metadata": {},
   "outputs": [
    {
     "data": {
      "application/vnd.jupyter.widget-view+json": {
       "model_id": "278887ced8a0465c98f9c29b2a275a77"
      }
     },
     "metadata": {},
     "output_type": "display_data"
    }
   ],
   "source": [
    "def f(SNR=2.946):\n",
    "    return SNR\n",
    "w = interactive(f, SNR=(0.01,50,0.01))\n",
    "display(w)"
   ]
  },
  {
   "cell_type": "code",
   "execution_count": 464,
   "metadata": {},
   "outputs": [
    {
     "name": "stdout",
     "output_type": "stream",
     "text": [
      "lambda_low, lambda_high =  2.0 38.0 Hz\n"
     ]
    }
   ],
   "source": [
    "SNR = w.result\n",
    "rates_ratio = np.exp(SNR) \n",
    "rate_low = 40 / (rates_ratio + 1)\n",
    "rate_high = rates_ratio * rate_low\n",
    "print('lambda_low, lambda_high = ', str(round(rate_low,2)), str(round(rate_high,2)),'Hz')"
   ]
  },
  {
   "cell_type": "markdown",
   "metadata": {},
   "source": [
    "## Choose trial duration T (sec) and time discretization step dt (msec)"
   ]
  },
  {
   "cell_type": "code",
   "execution_count": 465,
   "metadata": {},
   "outputs": [
    {
     "data": {
      "application/vnd.jupyter.widget-view+json": {
       "model_id": "24aac8e5d74f4274b0460320037077d4"
      }
     },
     "metadata": {},
     "output_type": "display_data"
    }
   ],
   "source": [
    "x_widget = widgets.IntSlider(min=1 , max=100, value=1)\n",
    "y_widget = widgets.FloatSlider(min=0, max=8, value=1, step=x_widget.value / 100)\n",
    "\n",
    "def update_y_step(*args):\n",
    "    y_widget.step = x_widget.value\n",
    "x_widget.observe(update_y_step, 'value')\n",
    "\n",
    "def printer(dt, T):\n",
    "    print(int(T*1000 / dt), ' observations per trial')\n",
    "interact(printer, dt=x_widget, T=y_widget);"
   ]
  },
  {
   "cell_type": "code",
   "execution_count": 466,
   "metadata": {
    "collapsed": true
   },
   "outputs": [],
   "source": [
    "dt = x_widget.value / 1000.0\n",
    "T = y_widget.value"
   ]
  },
  {
   "cell_type": "markdown",
   "metadata": {},
   "source": [
    "## Choose number of trials to simulate"
   ]
  },
  {
   "cell_type": "code",
   "execution_count": 467,
   "metadata": {},
   "outputs": [
    {
     "data": {
      "application/vnd.jupyter.widget-view+json": {
       "model_id": "9bff77d4fdff4487a9cd7e48a1c12d7a"
      }
     },
     "metadata": {},
     "output_type": "display_data"
    }
   ],
   "source": [
    "def jj(Trials=1):\n",
    "    return Trials\n",
    "xx = interactive(jj, Trials=(1,10000))\n",
    "display(xx)"
   ]
  },
  {
   "cell_type": "code",
   "execution_count": 468,
   "metadata": {
    "collapsed": true
   },
   "outputs": [],
   "source": [
    "Trials = xx.result"
   ]
  },
  {
   "cell_type": "markdown",
   "metadata": {},
   "source": [
    "## Select the outputs you are interested in\n",
    "### Single-trial outputs"
   ]
  },
  {
   "cell_type": "markdown",
   "metadata": {},
   "source": [
    "If you are planning to only simulate a single trial, choose the type of outputs that you want to display (plots)"
   ]
  },
  {
   "cell_type": "code",
   "execution_count": 469,
   "metadata": {},
   "outputs": [
    {
     "data": {
      "application/vnd.jupyter.widget-view+json": {
       "model_id": "c1c1d11bad084f409af61a074d810c82"
      }
     },
     "metadata": {},
     "output_type": "display_data"
    }
   ],
   "source": [
    "def kk(envt=True, obs=True, LLR=True):\n",
    "    return (envt, obs, LLR)\n",
    "xxx = interactive(kk, envt=True, obs=True, LLR=True)\n",
    "display(xxx)"
   ]
  },
  {
   "cell_type": "code",
   "execution_count": 470,
   "metadata": {
    "collapsed": true
   },
   "outputs": [],
   "source": [
    "envt, obs, LLR = xxx.result\n",
    "singleTrialOutputs = np.array([envt, obs, LLR])\n",
    "# print(singleTrialOutputs)"
   ]
  },
  {
   "cell_type": "markdown",
   "metadata": {},
   "source": [
    "### Multi-trial outputs"
   ]
  },
  {
   "cell_type": "code",
   "execution_count": 471,
   "metadata": {},
   "outputs": [
    {
     "data": {
      "application/vnd.jupyter.widget-view+json": {
       "model_id": "e3230fc4d7fc497eb036468021aec865"
      }
     },
     "metadata": {},
     "output_type": "display_data"
    }
   ],
   "source": [
    "def mm(raw_perf=True, perf_lastcp=True):\n",
    "    return (raw_perf, perf_lastcp)\n",
    "yyy = interactive(mm, raw_perf=True, perf_lastcp=True)\n",
    "display(yyy)"
   ]
  },
  {
   "cell_type": "code",
   "execution_count": 472,
   "metadata": {},
   "outputs": [
    {
     "name": "stdout",
     "output_type": "stream",
     "text": [
      "[ True  True]\n"
     ]
    }
   ],
   "source": [
    "raw_perf, perf_lastcp = yyy.result\n",
    "multiTrialOutputs = np.array([raw_perf, perf_lastcp])\n",
    "print(multiTrialOutputs)"
   ]
  },
  {
   "cell_type": "markdown",
   "metadata": {},
   "source": [
    "## Run simulations\n",
    "### Recap of your parameters"
   ]
  },
  {
   "cell_type": "code",
   "execution_count": 473,
   "metadata": {},
   "outputs": [
    {
     "name": "stdout",
     "output_type": "stream",
     "text": [
      "To change any of these parameter values, use the sliders above and re-compute each cell\n",
      "\n",
      "true h                       1.0\n",
      "gamma mode                   1.0\n",
      "gamma variance              10.0\n",
      "SNR                        2.946\n",
      "trial duration (sec)         1.0\n",
      "stimulus timestep (msec)       1\n",
      "nb observations per trial   1000\n",
      "nb of trials to simulate       1\n"
     ]
    }
   ],
   "source": [
    "print('{}\\n\\n\\\n",
    "{:24} {:>7}\\n\\\n",
    "{:24} {:>7}\\n\\\n",
    "{:24} {:>7}\\n\\\n",
    "{:24} {:>7}\\n\\\n",
    "{:24} {:>7}\\n\\\n",
    "{:24} {:>7}\\n\\\n",
    "{:24} {:>6}\\n\\\n",
    "{:24} {:>7}'.format('To change any of these parameter values, use the sliders above and re-compute each cell',\n",
    "                    'true h', h,\n",
    "                    'gamma mode', m, \n",
    "                    'gamma variance', v, \n",
    "                    'SNR', SNR,\n",
    "                    'trial duration (sec)', T, \n",
    "                    'stimulus timestep (msec)', int(dt * 1000),\n",
    "                    'nb observations per trial', int(T/dt),\n",
    "                    'nb of trials to simulate', Trials))"
   ]
  },
  {
   "cell_type": "markdown",
   "metadata": {},
   "source": [
    "---\n",
    "### Launch script"
   ]
  },
  {
   "cell_type": "code",
   "execution_count": 474,
   "metadata": {},
   "outputs": [
    {
     "data": {
      "image/png": "[encoded data removed]",
      "text/plain": [
       "<matplotlib.figure.Figure at 0x7fbee7ef92b0>"
      ]
     },
     "metadata": {},
     "output_type": "display_data"
    },
    {
     "data": {
      "image/png": "[encoded data removed]",
      "text/plain": [
       "<matplotlib.figure.Figure at 0x7fbee6fad630>"
      ]
     },
     "metadata": {},
     "output_type": "display_data"
    },
    {
     "data": {
      "image/png": "[encoded data removed]",
      "text/plain": [
       "<matplotlib.figure.Figure at 0x7fbee895ae48>"
      ]
     },
     "metadata": {},
     "output_type": "display_data"
    },
    {
     "name": "stdout",
     "output_type": "stream",
     "text": [
      "total elapsed time in hours:min:sec is 0:00:02\n"
     ]
    }
   ],
   "source": [
    "# np.random.seed(1)  # ensures each evaluation of the cell is independent of the previous ones\n",
    "Expt = Experiment(setof_stim_noise=sigma, exp_dt=dt, setof_trial_dur=T, setof_h=h,\n",
    "                  tot_trial=Trials)\n",
    "Observer = IdealObs(dt=Expt.exp_dt, expt=Expt, prior_h=np.array([alpha, beta]))\n",
    "aa = datetime.datetime.now().replace(microsecond=0)\n",
    "Expt.launch(Observer, singleTrialOutputs, multiTrialOutputs)\n",
    "bb = datetime.datetime.now().replace(microsecond=0)\n",
    "print('total elapsed time in hours:min:sec is', bb - aa)"
   ]
  }
 ],
 "metadata": {
  "kernelspec": {
   "display_name": "Python 3",
   "language": "python",
   "name": "python3"
  },
  "language_info": {
   "codemirror_mode": {
    "name": "ipython",
    "version": 3
   },
   "file_extension": ".py",
   "mimetype": "text/x-python",
   "name": "python",
   "nbconvert_exporter": "python",
   "pygments_lexer": "ipython3",
   "version": "3.6.1"
  }
 },
 "nbformat": 4,
 "nbformat_minor": 2
}
